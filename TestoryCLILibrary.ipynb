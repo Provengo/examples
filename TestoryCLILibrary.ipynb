{
  "cells": [
    {
      "cell_type": "markdown",
      "source": [
        "# Installation"
      ],
      "metadata": {
        "id": "T1xDaG9DihN3"
      }
    },
    {
      "cell_type": "markdown",
      "source": [
        "## Install the testory tool and define an alias for it"
      ],
      "metadata": {
        "id": "IpzG8xVPilh2"
      }
    },
    {
      "cell_type": "code",
      "source": [
        "!wget -nc https://github.com/TestoryTech/examples/releases/download/0.6.5/testory.sh\n",
        "!wget -nc https://github.com/TestoryTech/examples/releases/download/0.6.5/TestoryTool-101.uber.jar\n",
        "!chmod +x testory.sh\n",
        "%alias testory /content/testory.sh"
      ],
      "metadata": {
        "id": "VunEY-2aZLtI"
      },
      "execution_count": null,
      "outputs": []
    },
    {
      "cell_type": "markdown",
      "source": [
        "# A simple story"
      ],
      "metadata": {
        "id": "MeJqk5zMjm45"
      }
    },
    {
      "cell_type": "code",
      "source": [
        "%%writefile cli.story.js \n",
        "//%%js\n",
        "/* @Testory summon cli */\n",
        "\n",
        "story('Create a directory and delete it', function () { \n",
        "    cli([\"mkdir\", \"{RND1}\"], [0], \"\") \n",
        "    cli([\"ls\"], [0], \".*{RND1}\") \n",
        "    cli([\"rmdir\", \"{RND1}\" ], [0], \"\") \n",
        "})"
      ],
      "metadata": {
        "id": "XEoEwJXyIIHE",
        "outputId": "ff1d3af6-f999-4b99-b909-651b5c04c92f",
        "colab": {
          "base_uri": "https://localhost:8080/"
        }
      },
      "execution_count": 4,
      "outputs": [
        {
          "output_type": "stream",
          "name": "stdout",
          "text": [
            "Overwriting cli.story.js\n"
          ]
        }
      ]
    },
    {
      "cell_type": "markdown",
      "source": [
        "# Run\n"
      ],
      "metadata": {
        "id": "xLIewbCHj0pa"
      }
    },
    {
      "cell_type": "code",
      "source": [
        "testory run ."
      ],
      "metadata": {
        "id": "jOO7KnsEhYvJ",
        "outputId": "98c72d96-5ba9-4ddd-dddf-58dc8b6ce4ed",
        "colab": {
          "base_uri": "https://localhost:8080/"
        }
      },
      "execution_count": 6,
      "outputs": [
        {
          "output_type": "stream",
          "name": "stdout",
          "text": [
            "\u001b[32m  /\\\n",
            " /XX\\                           \n",
            "(XXXX#####################################\n",
            " \\XX/ \u001b[37m _____  ____  __  _____  ___   ___  _\n",
            "\u001b[32m  \\/  \u001b[37m  | |  | |_  ( (`  | |  / / \\ | |_) \\ \\_/\n",
            "        |_|  |_|__ _)_)  |_|  \\_\\_/ |_| \\  |_|\n",
            "\u001b[m\n",
            "\u001b[33m[SETUP] \u001b[36mINFO \u001b[mUsing tests from path: /content\n",
            "\u001b[33m[EXEC ] \u001b[36mINFO \u001b[mPreparing to run\n",
            "\u001b[33m[EXEC ] \u001b[36mINFO \u001b[mB-program started\n",
            "\u001b[33m[EXEC ] \u001b[36mINFO \u001b[mSelected: [\u001b[33mBeginStory-Create a directory and delete it\u001b[0;36m {JS_Obj lib:\"bp-base\"}\u001b[m]\n",
            "\u001b[33m[EXEC ] \u001b[36mINFO \u001b[mSelected: [\u001b[33mCLIEvent(mkdir 67ed3b65-5ce9-4964-9f79-7bd4b2bf9ae1)\u001b[m]\n",
            "\u001b[33m[EXEC ] \u001b[36mINFO \u001b[mSelected: [\u001b[33mCLIEvent(ls)\u001b[m]\n",
            "\u001b[33m[EXEC ] \u001b[36mINFO \u001b[mSelected: [\u001b[33mCLIEvent(rmdir 67ed3b65-5ce9-4964-9f79-7bd4b2bf9ae1)\u001b[m]\n",
            "\u001b[33m[EXEC ] \u001b[36mINFO \u001b[mSelected: [\u001b[33mEndStory-Create a directory and delete it\u001b[0;36m {JS_Obj lib:\"bp-base\"}\u001b[m]\n",
            "\u001b[33m[EXEC ] \u001b[36mINFO \u001b[mB-program ended\n"
          ]
        }
      ]
    },
    {
      "cell_type": "code",
      "source": [
        ""
      ],
      "metadata": {
        "id": "kf9bmOFdJEkd"
      },
      "execution_count": 3,
      "outputs": []
    }
  ],
  "metadata": {
    "colab": {
      "collapsed_sections": [],
      "name": "TestoryCLILibrary.ipynb",
      "provenance": [],
      "history_visible": true
    },
    "kernelspec": {
      "display_name": "Python 3",
      "name": "python3"
    },
    "language_info": {
      "name": "python"
    },
    "accelerator": "TPU"
  },
  "nbformat": 4,
  "nbformat_minor": 0
}