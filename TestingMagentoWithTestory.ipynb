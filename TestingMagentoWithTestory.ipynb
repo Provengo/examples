{
  "cells": [
    {
      "cell_type": "markdown",
      "metadata": {
        "id": "view-in-github",
        "colab_type": "text"
      },
      "source": [
        "<a href=\"https://https://colab.research.google.com/github/TestoryTech/examples/main/TestingMagentoWithTestory.ipynb\" target=\"_parent\"><img src=\"https://colab.research.google.com/assets/colab-badge.svg\" alt=\"Open In Colab\"/></a>"
      ]
    },    
    {
      "cell_type": "markdown",
      "source": [
        "# Installation"
      ],
      "metadata": {
        "id": "T1xDaG9DihN3"
      }
    },
    {
      "cell_type": "markdown",
      "source": [
        "## Install the testory tool and define an alias for it"
      ],
      "metadata": {
        "id": "IpzG8xVPilh2"
      }
    },
    {
      "cell_type": "code",
      "source": [
        "!wget -nc https://github.com/TestoryTech/examples/releases/download/0.6.5/testory.sh\n",
        "!wget -nc https://github.com/TestoryTech/examples/releases/download/0.6.5/TestoryTool-101.uber.jar\n",
        "!chmod +x testory.sh\n",
        "%alias testory /content/testory.sh"
      ],
      "metadata": {
        "id": "VunEY-2aZLtI"
      },
      "execution_count": null,
      "outputs": []
    },
    {
      "cell_type": "markdown",
      "source": [
        "## Install Selenium and run a standalone server"
      ],
      "metadata": {
        "id": "SM-3cca5isXS"
      }
    },
    {
      "cell_type": "code",
      "source": [
        "!wget -nc https://github.com/SeleniumHQ/selenium/releases/download/selenium-4.1.0/selenium-server-4.1.2.jar\n",
        "!apt-get update\n",
        "!apt-get install chromium-chromedriver"
      ],
      "metadata": {
        "id": "nndJE_hmh-4m"
      },
      "execution_count": null,
      "outputs": []
    },
    {
      "cell_type": "code",
      "execution_count": null,
      "metadata": {
        "id": "YczL-VXHr3w5"
      },
      "outputs": [],
      "source": [
        "%%script bash --bg\n",
        "java -jar /content/selenium-server-4.1.2.jar standalone --port 4444 --override-max-sessions true --max-sessions 40  --log /content/selenium.log"
      ]
    },
    {
      "cell_type": "markdown",
      "source": [
        "# Test model"
      ],
      "metadata": {
        "id": "MeJqk5zMjm45"
      }
    },
    {
      "cell_type": "markdown",
      "source": [
        "## Business Logic"
      ],
      "metadata": {
        "id": "k0MPIgtSRarF"
      }
    },
    {
      "cell_type": "markdown",
      "source": [
        "### Metadata\n",
        "\n",
        "Testory allows to define constants that the test stories can use to define generic test cases. The box below demonstrates how we deifine some constants that we later use in our test scripts. These constants can depent on evironment variables, as demonstra by the URL variable. In our example, we use an environment variable to synchronize the test model with the setup script `empty_cart.py` shown below."
      ],
      "metadata": {
        "id": "fGyHNipkHsUW"
      }
    },
    {
      "cell_type": "code",
      "source": [
        "# A local Magento sever. \n",
        "# Useful when connecting to a colab runtime that runs the magento store.\n",
        "# %env URL http://localhost \n",
        "\n",
        "# A public Magebto server.\n",
        "# Note that the server reboots at round hours and is not available for few minutes at these times.\n",
        "%env URL = https://magento2-demo.magebit.com/"
      ],
      "metadata": {
        "id": "jn1LoEw_GdaB"
      },
      "execution_count": null,
      "outputs": []
    },
    {
      "cell_type": "code",
      "source": [
        "%%writefile _constants.story.js \n",
        "//%%js\n",
        "// The address of the store that we wish to test\n",
        "const URL = getenv(\"URL\")\n",
        "\n",
        "// The number of concurrent purchase sessions\n",
        "const NUM_OF_SESSIONS = 2\n",
        "\n",
        "// A list of products that we can add to the cart\n",
        "const products = {\n",
        "    'Stark Fundamental Hoodie': {category: 'Men', subCategory: 'Tops', subSubCategory: 'Hoodies & Sweatshirts', options: ['M', 'Blue'], product: 'Stark Fundamental Hoodie'},\n",
        "    'Atomic Endurance Running Tee (V-neck)': {category: 'Men', subCategory: 'Tops', subSubCategory: 'Tees', options: ['S', 'Yellow'], product: 'Atomic Endurance Running Tee (V-neck)'},\n",
        "    'Meteor Workout Short': {category: 'Men', subCategory: 'Bottoms', subSubCategory: 'Shorts', options: ['34', 'Blue'], product: 'Meteor Workout Short'},\n",
        "    'Layla Tee': {category: 'Women', subCategory: 'Tops', subSubCategory: 'Tees', options: ['S', 'Green'], product: 'Layla Tee'},\n",
        "    'Bella Tank': {category: 'Women', subCategory: 'Tops', subSubCategory: 'Bras & Tanks', options: ['S', 'Orange'], product: 'Bella Tank'},\n",
        "    'Inez Full Zip Jacket': {category: 'Women', subCategory: 'Tops', subSubCategory: 'Jackets', options: ['Orange', 'L'], product: 'Inez Full Zip Jacket'}\n",
        "}\n",
        "\n",
        "\n",
        "// The names of the products that we can add to the cart\n",
        "const productNames = Object.keys(products)\n",
        "\n",
        "// The credentials of the user that we want to test with\n",
        "const username = 'roni_cost@example.com'\n",
        "const password = 'roni_cost3@example.com'\n",
        "const expectedWelcome =  'Welcome, Veronica Costello!'"
      ],
      "metadata": {
        "id": "XEoEwJXyIIHE"
      },
      "execution_count": null,
      "outputs": []
    },
    {
      "cell_type": "markdown",
      "source": [
        "### Add to cart stories\n",
        "In the code below we define our first test script. The stcript uses the constants `NUM_OF_SESSIONS`, `productNames`, and `products` to define stories that login, choose a product, and add it to the cart. Each story is defined to run in a separate session. See [checkout.story.js](https://colab.research.google.com/drive/15WASmf07bnamFugxRxHrPYZKVY3tpSie/content/checkout.story.js)."
      ],
      "metadata": {
        "id": "K9YAZtJk2Uhk"
      }
    },
    {
      "cell_type": "code",
      "execution_count": null,
      "metadata": {
        "id": "EakuAP8ZxkZi"
      },
      "outputs": [],
      "source": [
        "%%writefile add_to_cart.story.js \n",
        "//%%js\n",
        "for (let i = 0; i < NUM_OF_SESSIONS; i++) {\n",
        "    story(\"AddToCartStory\" + i, function () {\n",
        "        // Start a new browser session on the store URL\n",
        "        with (new SeleniumSession().start(URL)) {\n",
        "            // Log-in as a regular user\n",
        "            login({username: username, password: password, expectedWelcome: expectedWelcome})\n",
        "\n",
        "            // Choose a random product\n",
        "            let prod = choose(productNames)\n",
        "\n",
        "            // Add the chosen product to the shopping cart\n",
        "            addToCart(products[prod])\n",
        "        }\n",
        "    })\n",
        "}"
      ]
    },
    {
      "cell_type": "markdown",
      "source": [
        "### Check out story\n",
        "\n",
        "Our second script, shown below, defines a story for checking out product from the store. In this story, our user loggs in and checks out all the item in the shopping cart. While doing so, it listens to all `AddToCart` events and maintains two lists: a list of the product put in the cart and a list of products that are not in the cart. At the end, the story uses this information to tell the `checkOut` event to verify the shopping cart both positively and negatively."
      ],
      "metadata": {
        "id": "yhxE_hzNKshA"
      }
    },
    {
      "cell_type": "code",
      "source": [
        "%%writefile checkout.story.js \n",
        "//%%js\n",
        "story(\"CheckOutStory\", function () {\n",
        "    let incart = []\n",
        "\n",
        "    let AddToCartListener = {\n",
        "        eventset: Any(\"AddToCart\"),\n",
        "        callback: e => {incart.push(e.data.product)}\n",
        "    }\n",
        "\n",
        "    waitFor(AddToCartListener, function () {\n",
        "        with (new SeleniumSession().start(URL)) {\n",
        "            // To bypass Magento's bug...\n",
        "            waitFor(Any(/Click \\[session=AddToCartStory\\d xpath=\\/\\/button\\[@id='product-addtocart-button']\\/span]/))\n",
        "\n",
        "            // Login to the store\n",
        "            login({username: 'roni_cost@example.com', password: 'roni_cost3@example.com', expectedWelcome: 'Welcome, Veronica Costello!'})\n",
        "\n",
        "            // Checkout and verify existence/nonexistence of items in the cart\n",
        "            checkOut({\n",
        "                shippingMethod: 'Fixed',\n",
        "                verifyItems: incart,\n",
        "            })\n",
        "        }\n",
        "    })\n",
        "})"
      ],
      "metadata": {
        "id": "NZos7cptKN9w"
      },
      "execution_count": null,
      "outputs": []
    },
    {
      "cell_type": "markdown",
      "source": [
        "### Add before checkout story\n",
        "\n",
        "Finally, we add a story that tells testory that we wish to finish all `AddToCart` stories before procedding to `CheckOut`."
      ],
      "metadata": {
        "id": "dUnVcsd5MihM"
      }
    },
    {
      "cell_type": "code",
      "source": [
        "%%writefile add_before_checkout.story.js \n",
        "//%%js\n",
        "story(\"AddBeforeCheckoutStory\", function () {\n",
        "    block(Any(\"CheckOut\"), function () {\n",
        "        for (let i = 0; i < NUM_OF_SESSIONS; i++)\n",
        "            waitFor(Any(/EndStory-AddToCartStory/))\n",
        "    })\n",
        "})\n"
      ],
      "metadata": {
        "id": "XG4LEJfxMXRp"
      },
      "execution_count": null,
      "outputs": []
    },
    {
      "cell_type": "markdown",
      "source": [
        "## Infrastructure"
      ],
      "metadata": {
        "id": "BsHD9aMgRThg"
      }
    },
    {
      "cell_type": "markdown",
      "source": [
        "### Event Definition\n",
        "\n",
        "The stories above use events such as `AddToCart` and `Login` that are specific to testing the Magento store. This is an example of how testory allows for separation of concerns. The business logic is defined above while the delails of the events are encaspulated in an event definition file.\n",
        "\n",
        "Expand this section to see the event definition file. Each event is defined using the `define_event` function whose first parameter is the name of the event and second parameter is a callback function that translates the event to Selenium commands. The callback function takes two parameters: a `session` in which the event is invoked and the `event` itself (the `data` field of the BEvent object).\n"
      ],
      "metadata": {
        "id": "aUx4J_ljwhxr"
      }
    },
    {
      "cell_type": "code",
      "source": [
        "%%writefile events.js \n",
        "//%%js\n",
        "/* @Testory summon selenium */\n",
        "\n",
        "/***********************************************************************************\n",
        " * Login to the store as a regular user.\n",
        " *\n",
        " * Parameters:\n",
        " *   username: string - The user that logs in\n",
        " *   password: string - The password of that user\n",
        " ************************************************************************************/\n",
        "define_event(\"Login\", function(session, event) {\n",
        "    with(session) {\n",
        "        click(\"//a[contains(text(),'Sign In')]\");\n",
        "        writeText('//input[@id=\"email\"]', event.username);\n",
        "        writeText('//input[@id=\"pass\"]', event.password);\n",
        "        click('//button[@id=\"send2\"]');\n",
        "\n",
        "        if (event.expectedWelcome)\n",
        "            waitForVisibility(\"//span[text()='\" + event.expectedWelcome + \"']\", 10)\n",
        "    }\n",
        "})\n",
        "\n",
        "\n",
        "/***********************************************************************************\n",
        " * Login to the store as an admin user.\n",
        " *\n",
        " * Parameters:\n",
        " *   username: string - The user that logs in\n",
        " *   password: string - The password of that user\n",
        " ************************************************************************************/\n",
        "define_event(\"AdminLogin\", function(session, event) {\n",
        "    with(session) {\n",
        "        writeText('//input[@id=\"username\"]', event.username);\n",
        "        writeText('//input[@id=\"login\"]', event.password);\n",
        "        click(\"//span[text()='Sign in']\");\n",
        "    }\n",
        "});\n",
        "\n",
        "/***********************************************************************************\n",
        " * Logout a regular user.\n",
        " *\n",
        " ************************************************************************************/\n",
        "define_event(\"Logout\", function(session, event) {\n",
        "    with(session) {\n",
        "        click(\"//span[@class='customer-name']//button\");\n",
        "        click(\"//a[normalize-space()='Sign Out']\");\n",
        "    }\n",
        "});\n",
        "\n",
        "/***********************************************************************************\n",
        " * Register a  user.\n",
        " *\n",
        " * Parameters:\n",
        " *   s: string              - The name of the session in which we want this event to take place\n",
        " *   firsntame : string     - The name of the new user\n",
        " *   lastname : string      - The surname of the new user\n",
        " *   email_address : string - An email address for the user. Must be unique.\n",
        " *   password : string      - Password for the new user.\n",
        " ************************************************************************************/\n",
        "define_event(\"Register\", function(session, event) {\n",
        "    with(session) {\n",
        "        click(\"//a[@href='http://localhost/customer/account/create/']\");\n",
        "        writeText('//input[@id=\"firstname\"]', event.firstname);\n",
        "        writeText('//input[@id=\"lastname\"]', event.lastname);\n",
        "        writeText('//input[@id=\"email_address\"]', event.email_address);\n",
        "        writeText('//input[@id=\"password\"]', event.password);\n",
        "        writeText('//input[@id=\"password-confirmation\"]', event.password);\n",
        "        click('//button[@type=\"submit\" and contains(concat(\" \",normalize-space(@class),\" \"),\" action \") and contains(concat(\" \",normalize-space(@class),\" \"),\" submit \")]');\n",
        "        assertText(\"//div[@data-ui-id='message-success']//div[1]\", \"Thank you for registering with Main Website Store.\")\n",
        "    }\n",
        "});\n",
        "\n",
        "\n",
        "/***********************************************************************************\n",
        " * Add an item to the cart of the currently logged-in user.\n",
        " *\n",
        " * Parameters:\n",
        " *   s: string                  - The name of the session in which we want this event to take place.\n",
        " *   category : string          - The category of the product that we want to add.\n",
        " *   subCategory : string       - The sub-category of the product that we want to add.\n",
        " *   product : string           - The  product that we want to add.\n",
        " *   options : array of strings - A list of options for the product.\n",
        " *   quantity: number, optional - The number of items to add.\n",
        " ************************************************************************************/\n",
        "define_event(\"AddToCart\", function(session, event) {\n",
        "    with(session) {\n",
        "\n",
        "        click(\"//span[text()='\" + event.category + \"']\");\n",
        "        click(\"(//span[text()='\" + event.category + \"'])/following::span[text()='\" + event.subCategory + \"']/following::a[text()[normalize-space()='\" + event.subSubCategory + \"']]\");\n",
        "\n",
        "        click(\"(//img[@alt='\" + event.product + \"'])[last()]\");\n",
        "        for (let opt of event.options) {\n",
        "            // Click the options\n",
        "            click(\"//div[@data-option-label='\" + opt + \"']\");\n",
        "\n",
        "            // Verify that it was selected\n",
        "            waitForVisibility(\"//div[@data-option-label='\" + opt + \"' and contains(@class,'selected')]\");\n",
        "        }\n",
        "        if (event.quantity) {\n",
        "            writeText(\"//input[@title='Qty']\", event.quantity, true);\n",
        "        }\n",
        "        click(\"//button[@id='product-addtocart-button']/span\");\n",
        "        waitForVisibility(\"//div[@data-ui-id='message-success']//div[1]\", 15);\n",
        "        assertText(\"//div[@data-ui-id='message-success']//div[1]\", \"You added \" + event.product + \" to your shopping cart.\");\n",
        "    }\n",
        "});\n",
        "\n",
        "/***********************************************************************************\n",
        " * Remove an item from the cart of the currently logged-in user.\n",
        " *\n",
        " * Parameters:\n",
        " *   s: string        - The name of the session in which we want this event to take place.\n",
        " *   product : string - The  product that we want to remove.\n",
        " ************************************************************************************/\n",
        "define_event(\"RemoveFromCart\", function(session, event) {\n",
        "    with(session) {\n",
        "        click(\"//a[@class='action showcart']\");\n",
        "        click(\"//a[text()[normalize-space()='\" + event.product + \"']]/following::a[@class='action delete']\");\n",
        "        click(\"//div[text()='Are you sure you would like to remove this item from the shopping cart?']/following::span[text()='OK']\");\n",
        "        waitForInvisibility(\"//div[contains(@class,'block block-minicart')]//img[@alt='\" + event.product + \"']\");\n",
        "        click(\"//button[@id='btn-minicart-close']\");\n",
        "    }\n",
        "});\n",
        "\n",
        "/***********************************************************************************\n",
        " * Check that a product exists in the cart of the currently logged-in user.\n",
        " *\n",
        " * Parameters:\n",
        " *   s: string -      - The name of the session in which we want this event to take place.\n",
        " *   product : string - The  product that we want to remove.\n",
        " ************************************************************************************/\n",
        "define_event(\"CheckExistenceOfProductInCart\", function(session, event) {\n",
        "    with(session) {\n",
        "        click(\"//a[@class='action showcart']\");\n",
        "        waitForVisibility(\"//div[contains(@class,'block block-minicart')]//img[@alt='\" + event.product + \"']\");\n",
        "        click(\"//button[@id='btn-minicart-close']\");\n",
        "    }\n",
        "});\n",
        "\n",
        "/***********************************************************************************\n",
        " * Check-out the items in the cart of the currently logged-in user.\n",
        " *\n",
        " * Parameters:\n",
        " *   s: string                                              - The name of the session in which we want this event to take place.\n",
        " *   verifyItems : array of strings, optional               - A list of items that we expect to see in the cart.\n",
        " *   verifyNonexistenceOfItems : array of strings, optional - A list of items that we expect not to see in the cart.\n",
        " *   shippingMethod : string, optional                      - The shopping method that we want to use for this order.\n",
        " ************************************************************************************/\n",
        "define_event(\"CheckOut\", function(session, event) {\n",
        "    with(session) {\n",
        "        click(\"//a[@class='action showcart']\");\n",
        "        click(\"//button[@title='Proceed to Checkout']\");\n",
        "\n",
        "        if (event.verifyItems || event.verifyNonexistenceOfItems) {\n",
        "            waitForVisibility(\"//div[@class='block items-in-cart']//div\", 20);\n",
        "            click(\"//div[@class='block items-in-cart']//div\");\n",
        "        }\n",
        "\n",
        "        if (event.verifyItems) {\n",
        "            for (item of event.verifyItems) {\n",
        "                waitForVisibility(\"//img[@alt='\" + item + \"']\");\n",
        "            }\n",
        "        }\n",
        "\n",
        "        if (event.verifyNonexistenceOfItems) {\n",
        "            for (item of event.verifyNonexistenceOfItems) {\n",
        "                waitForInvisibility(\"//img[@alt='\" + item + \"']\", 5);\n",
        "            }\n",
        "        }\n",
        "\n",
        "        if (event.shippingMethod) {\n",
        "            waitForVisibility(\"//td[text()='\" + event.shippingMethod + \"']\", 5);\n",
        "            click(\"//td[text()='\" + event.shippingMethod + \"']\");\n",
        "        }\n",
        "\n",
        "        click(\"//span[text()='Next']\");\n",
        "\n",
        "        if (event.verifyItems) {\n",
        "            for (item of event.verifyItems) {\n",
        "                waitForVisibility(\"//img[@alt='\" + item + \"']\");\n",
        "            }\n",
        "        }\n",
        "        if (event.verifyNonexistenceOfItems) {\n",
        "            for (item of event.verifyNonexistenceOfItems) {\n",
        "                waitForInvisibility(\"//img[@alt='\" + item + \"']\", 5);\n",
        "            }\n",
        "        }\n",
        "\n",
        "        waitForVisibility(\"//span[text()='Place Order']\", 20);\n",
        "        click(\"//span[text()='Place Order']\");\n",
        "        waitForVisibility(\"//p[text()='Your order number is: ']\", 5);\n",
        "        click(\"//span[text()='Continue Shopping']\");\n",
        "    }\n",
        "}); "
      ],
      "metadata": {
        "id": "Q_9g0eny2Xvm"
      },
      "execution_count": null,
      "outputs": []
    },
    {
      "cell_type": "markdown",
      "source": [
        "### Setup script\n",
        "\n",
        "Expand this section to see a setup script that we use in this example. This is a regular python script that uses Magento's REST interface to empty the shopping cart of the user whose actions we are simulating in our test. We will run this script using the `--before-test ./empty_cart.py`, as shown [below](https://colab.research.google.com/drive/15WASmf07bnamFugxRxHrPYZKVY3tpSie#scrollTo=Ad4AxpKhiMeM&line=1&uniqifier=1)."
      ],
      "metadata": {
        "id": "TWQGq4cEwjVk"
      }
    },
    {
      "cell_type": "code",
      "source": [
        "%%writefile empty_cart.py \n",
        "#!/usr/bin/env python\n",
        "import json\n",
        "import os\n",
        "from requests import post, get, delete\n",
        "\n",
        "\n",
        "URL = os.getenv(\"URL\")\n",
        "CREDENTIALS = {'username': \"roni_cost@example.com\", 'password': \"roni_cost3@example.com\"}\n",
        "\n",
        "r = post(f'{URL}/rest/default/V1/integration/customer/token', params=CREDENTIALS)\n",
        "token = r.text[1:-1]\n",
        "header = {'Authorization': f'Bearer {token}'}\n",
        "\n",
        "r = get(f'{URL}/rest/default/V1/carts/mine', headers=header)\n",
        "cart = json.loads(r.text)\n",
        "\n",
        "if \"items\" in cart:\n",
        "    for item in cart[\"items\"]:\n",
        "        delete(f'{URL}/rest/default/V1/carts/mine/items/{item[\"item_id\"]}', headers=header)"
      ],
      "metadata": {
        "id": "FpCYUcO5itaw"
      },
      "execution_count": null,
      "outputs": []
    },
    {
      "cell_type": "code",
      "source": [
        "!chmod +x empty_cart.py"
      ],
      "metadata": {
        "id": "1CxwTlbinMMc"
      },
      "execution_count": null,
      "outputs": []
    },
    {
      "cell_type": "markdown",
      "source": [
        "# Run\n"
      ],
      "metadata": {
        "id": "xLIewbCHj0pa"
      }
    },
    {
      "cell_type": "markdown",
      "source": [
        "## Sampling\n",
        "\n",
        "Testory various tools to generate tests from the model. In this demonstration, we just sample 10 random tests that satisfy the model. The following command deletes the file `10tests.json` and writes and ensemble of 10 random tests to it.  "
      ],
      "metadata": {
        "id": "wThBbyqZOEWj"
      }
    },
    {
      "cell_type": "code",
      "source": [
        "testory sample --delete --samples-file 10tests.json --sample-size=10  ."
      ],
      "metadata": {
        "id": "jOO7KnsEhYvJ"
      },
      "execution_count": null,
      "outputs": []
    },
    {
      "cell_type": "markdown",
      "source": [
        "## Running the generated ensemble\n",
        "\n",
        "To run the ensemble fron `10tests.json`, we use the following command. Note the use of the `--before-test ./empty_cart.py` flag to specify that we want to invoke `empty_cart.py` before each test. This is an example of using a setup script to initialize the state before each test. \n",
        "\n",
        "The script below should take some time to run, as it interracts with the online store. Note that the store is taken down every round our for five minutes, so expect error if you run the tests at these times."
      ],
      "metadata": {
        "id": "a4qGOHWLPN3-"
      }
    },
    {
      "cell_type": "code",
      "source": [
        "testory run --run-ensemble --ensemble-file 10tests.json --before-test ./empty_cart.py ."
      ],
      "metadata": {
        "id": "Ad4AxpKhiMeM"
      },
      "execution_count": null,
      "outputs": []
    },
    {
      "cell_type": "markdown",
      "source": [
        "## Generating and viewing a report\n",
        "\n",
        "Testory supports various types of reports. In this example, we use the command below to geberate a report that details the steps of the tests that we have executed."
      ],
      "metadata": {
        "id": "0I5Qp2RBLz1C"
      }
    },
    {
      "cell_type": "code",
      "source": [
        "testory report TestLog ."
      ],
      "metadata": {
        "id": "1PYP4OuOnHE2"
      },
      "execution_count": null,
      "outputs": []
    },
    {
      "cell_type": "markdown",
      "source": [
        "The generated report can be displayed by clicking on the link below."
      ],
      "metadata": {
        "id": "0bndEO36SWmC"
      }
    },
    {
      "cell_type": "code",
      "source": [
        "from google.colab import output\n",
        "get_ipython().system_raw('python3 -m http.server 8888 --directory /content/report&') \n",
        "output.serve_kernel_port_as_window(8888, path=\"extent/html/index.html\")"
      ],
      "metadata": {
        "id": "1c1rsd2HSTlc"
      },
      "execution_count": null,
      "outputs": []
    }
  ],
  "metadata": {
    "colab": {
      "collapsed_sections": [
        "IpzG8xVPilh2",
        "BsHD9aMgRThg",
        "aUx4J_ljwhxr",
        "TWQGq4cEwjVk"
      ],
      "name": "TestingMagentoWithTestory.ipynb",
      "provenance": []
    },
    "kernelspec": {
      "display_name": "Python 3",
      "name": "python3"
    },
    "language_info": {
      "name": "python"
    },
    "accelerator": "TPU"
  },
  "nbformat": 4,
  "nbformat_minor": 0
}
