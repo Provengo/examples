{
  "cells": [
    {
      "cell_type": "markdown",
      "source": [
        "# Installation"
      ],
      "metadata": {
        "id": "T1xDaG9DihN3"
      }
    },
    {
      "cell_type": "markdown",
      "source": [
        "## Install the testory tool and define an alias for it"
      ],
      "metadata": {
        "id": "IpzG8xVPilh2"
      }
    },
    {
      "cell_type": "code",
      "source": [
        "!wget -nc https://github.com/TestoryTech/examples/releases/download/0.6.5/testory.sh\n",
        "!wget -nc https://github.com/TestoryTech/examples/releases/download/0.6.5/TestoryTool-101.uber.jar\n",
        "!chmod +x testory.sh\n",
        "%alias testory /content/testory.sh"
      ],
      "metadata": {
        "id": "VunEY-2aZLtI",
        "colab": {
          "base_uri": "https://localhost:8080/"
        },
        "outputId": "aabb6b24-d764-4341-a070-e53f1d7e0115"
      },
      "execution_count": 174,
      "outputs": [
        {
          "output_type": "stream",
          "name": "stdout",
          "text": [
            "File ‘testory.sh’ already there; not retrieving.\r\n",
            "\n",
            "File ‘TestoryTool-101.uber.jar’ already there; not retrieving.\n",
            "\n"
          ]
        }
      ]
    },
    {
      "cell_type": "markdown",
      "source": [
        "## Install Selenium and run a standalone server"
      ],
      "metadata": {
        "id": "SM-3cca5isXS"
      }
    },
    {
      "cell_type": "code",
      "source": [
        "!wget -nc https://github.com/SeleniumHQ/selenium/releases/download/selenium-4.1.0/selenium-server-4.1.2.jar\n",
        "!apt-get update\n",
        "!apt-get install chromium-chromedriver"
      ],
      "metadata": {
        "id": "nndJE_hmh-4m"
      },
      "execution_count": 175,
      "outputs": []
    },
    {
      "cell_type": "code",
      "execution_count": 176,
      "metadata": {
        "id": "YczL-VXHr3w5"
      },
      "outputs": [],
      "source": [
        "%%script bash --bg\n",
        "java -jar /content/selenium-server-4.1.2.jar standalone --port 4444 --override-max-sessions true --max-sessions 40  --log /content/selenium.log"
      ]
    },
    {
      "cell_type": "markdown",
      "source": [
        "# Test model"
      ],
      "metadata": {
        "id": "MeJqk5zMjm45"
      }
    },
    {
      "cell_type": "code",
      "source": [
        "# A local Magento sever. \n",
        "# Useful when connecting to a colab runtime that runs the magento store.\n",
        "#%env URL http://localhost \n",
        "\n",
        "# A public Magebto server.\n",
        "# Note that the server reboots at round hours and is not available for few minutes at these times.\n",
        "%env URL = https://magento2-demo.magebit.com/"
      ],
      "metadata": {
        "id": "jn1LoEw_GdaB",
        "outputId": "91a13e0e-6e2d-4997-c96f-4903fcc0cd57",
        "colab": {
          "base_uri": "https://localhost:8080/"
        }
      },
      "execution_count": 177,
      "outputs": [
        {
          "output_type": "stream",
          "name": "stdout",
          "text": [
            "env: URL=https://magento2-demo.magebit.com/\n"
          ]
        }
      ]
    },
    {
      "cell_type": "code",
      "source": [
        "%%writefile tests.story.js \n",
        "//%%js\n",
        "story('My first end-to-end test', function () {\n",
        "    with (new SeleniumSession().start(getenv(\"URL\"))) {\n",
        "        login({username: 'roni_cost@example.com', password: 'roni_cost3@example.com'});\n",
        "\n",
        "        addToCart({category: 'Women', subCategory: 'Tops', subSubCategory: 'Jackets', product: 'Stellar Solar Jacket', options: ['S', 'Red'], quantity: 3});\n",
        "\n",
        "        addToCart({category: 'Men', subCategory: 'Tops', subSubCategory: 'Jackets', product: 'Kenobi Trail Jacket', options: ['M', 'Black'], quantity: 3});\n",
        "\n",
        "        removeFromCart({product: 'Kenobi Trail Jacket'});\n",
        "\n",
        "        checkExistenceOfProductInCart({product: 'Stellar Solar Jacket' });\n",
        "\n",
        "        checkOut({shippingMethod: \"Fixed\",\n",
        "                  verifyItems: ['Stellar Solar Jacket'], \n",
        "                  verifyNonexistenceOfItems: ['Kenobi Trail Jacket']});\n",
        "    }\n",
        "});"
      ],
      "metadata": {
        "id": "XEoEwJXyIIHE",
        "outputId": "23e79a5f-844b-472d-ede5-52cf1388ca19",
        "colab": {
          "base_uri": "https://localhost:8080/"
        }
      },
      "execution_count": 178,
      "outputs": [
        {
          "output_type": "stream",
          "name": "stdout",
          "text": [
            "Overwriting tests.story.js\n"
          ]
        }
      ]
    },
    {
      "cell_type": "markdown",
      "source": [
        "### Event Definition\n",
        "\n",
        "The story we entered in the cell above use events such as `AddToCart` and `Login` that are specific to testing the Magento store. This is an example of how testory allows for separation of concerns. The business logic is defined above while the delails of the events are encaspulated in an event definition file.\n",
        "\n",
        "Expand this section to see the event definition file. Each event is defined using the `define_event` function whose first parameter is the name of the event and second parameter is a callback function that translates the event to Selenium commands. The callback function takes two parameters: a `session` in which the event is invoked and the `event` itself (the `data` field of the BEvent object).\n"
      ],
      "metadata": {
        "id": "aUx4J_ljwhxr"
      }
    },
    {
      "cell_type": "code",
      "source": [
        "%%writefile events.js \n",
        "//%%js\n",
        "/* @Testory summon selenium */\n",
        "\n",
        "/***********************************************************************************\n",
        " * Login to the store as a regular user.\n",
        " *\n",
        " * Parameters:\n",
        " *   username: string - The user that logs in\n",
        " *   password: string - The password of that user\n",
        " ************************************************************************************/\n",
        "define_event(\"Login\", function (session, event) {\n",
        "    with (session) {\n",
        "        click(\"//a[contains(text(),'Sign In')]\");\n",
        "        writeText('//input[@id=\"email\"]', event.username);\n",
        "        writeText('//input[@id=\"pass\"]', event.password);\n",
        "        click('//button[@id=\"send2\"]');\n",
        "\n",
        "        if (event.expectedWelcome)\n",
        "            waitForVisibility(\"//span[text()='\" + event.expectedWelcome + \"']\", 10)\n",
        "    }\n",
        "})\n",
        "\n",
        "\n",
        "/***********************************************************************************\n",
        " * Login to the store as an admin user.\n",
        " *\n",
        " * Parameters:\n",
        " *   username: string - The user that logs in\n",
        " *   password: string - The password of that user\n",
        " ************************************************************************************/\n",
        "define_event(\"AdminLogin\", function (session, event) {\n",
        "    with (session) {\n",
        "        writeText('//input[@id=\"username\"]', event.username);\n",
        "        writeText('//input[@id=\"login\"]', event.password);\n",
        "        click(\"//span[text()='Sign in']\");\n",
        "    }\n",
        "});\n",
        "\n",
        "/***********************************************************************************\n",
        " * Logout a regular user.\n",
        " *\n",
        " ************************************************************************************/\n",
        "define_event(\"Logout\", function (session, event) {\n",
        "    with (session) {\n",
        "        click(\"//span[@class='customer-name']//button\");\n",
        "        click(\"//a[normalize-space()='Sign Out']\");\n",
        "    }\n",
        "});\n",
        "\n",
        "/***********************************************************************************\n",
        " * Register a  user.\n",
        " *\n",
        " * Parameters:\n",
        " *   s: string              - The name of the session in which we want this event to take place\n",
        " *   firsntame : string     - The name of the new user\n",
        " *   lastname : string      - The surname of the new user\n",
        " *   email_address : string - An email address for the user. Must be unique.\n",
        " *   password : string      - Password for the new user.\n",
        " ************************************************************************************/\n",
        "define_event(\"Register\", function (session, event) {\n",
        "    with (session) {\n",
        "        click(\"//a[@href='http://localhost/customer/account/create/']\");\n",
        "        writeText('//input[@id=\"firstname\"]', event.firstname);\n",
        "        writeText('//input[@id=\"lastname\"]', event.lastname);\n",
        "        writeText('//input[@id=\"email_address\"]', event.email_address);\n",
        "        writeText('//input[@id=\"password\"]', event.password);\n",
        "        writeText('//input[@id=\"password-confirmation\"]', event.password);\n",
        "        click('//button[@type=\"submit\" and contains(concat(\" \",normalize-space(@class),\" \"),\" action \") and contains(concat(\" \",normalize-space(@class),\" \"),\" submit \")]');\n",
        "        assertText(\"//div[@data-ui-id='message-success']//div[1]\", \"Thank you for registering with Main Website Store.\")\n",
        "    }\n",
        "});\n",
        "\n",
        "\n",
        "/***********************************************************************************\n",
        " * Add an item to the cart of the currently logged-in user.\n",
        " *\n",
        " * Parameters:\n",
        " *   s: string                  - The name of the session in which we want this event to take place.\n",
        " *   category : string          - The category of the product that we want to add.\n",
        " *   subCategory : string       - The sub-category of the product that we want to add.\n",
        " *   product : string           - The  product that we want to add.\n",
        " *   options : array of strings - A list of options for the product.\n",
        " *   quantity: number, optional - The number of items to add.\n",
        " ************************************************************************************/\n",
        "define_event(\"AddToCart\", function (session, event) {\n",
        "    with (session) {\n",
        "\n",
        "        click(\"//span[text()='\" + event.category + \"']\");\n",
        "        click(\"(//span[text()='\" + event.category + \"'])/following::span[text()='\" + event.subCategory + \"']/following::a[text()[normalize-space()='\" + event.subSubCategory + \"']]\");\n",
        "\n",
        "        selectByValue(\"(//span[text()='Show'])[2]/following::select[@class='limiter-options']\", '36')\n",
        "\n",
        "        click(\"(//img[@alt='\" + event.product + \"'])[last()]\");\n",
        "\n",
        "        for (let opt of event.options) {\n",
        "            // Click the options\n",
        "            click(\"//div[@data-option-label='\" + opt + \"']\");\n",
        "\n",
        "            // Verify that it was selected\n",
        "            waitForVisibility(\"//div[@data-option-label='\" + opt + \"' and contains(@class,'selected')]\");\n",
        "        }\n",
        "        if (event.quantity) {\n",
        "            writeText(\"//input[@title='Qty']\", event.quantity, true);\n",
        "        }\n",
        "        click(\"//button[@id='product-addtocart-button']/span\");\n",
        "        waitForVisibility(\"//div[@data-ui-id='message-success']//div[1]\");\n",
        "        assertText(\"//div[@data-ui-id='message-success']//div[1]\", \"You added \" + event.product + \" to your shopping cart.\");\n",
        "    }\n",
        "})\n",
        "\n",
        "\n",
        "/***********************************************************************************\n",
        " * Remove an item from the cart of the currently logged-in user.\n",
        " *\n",
        " * Parameters:\n",
        " *   s: string        - The name of the session in which we want this event to take place.\n",
        " *   product : string - The  product that we want to remove.\n",
        " ************************************************************************************/\n",
        "define_event(\"RemoveFromCart\", function (session, event) {\n",
        "    with (session) {\n",
        "        click(\"//a[@class='action showcart']\");\n",
        "        click(\"//a[text()[normalize-space()='\" + event.product + \"']]/following::a[@class='action delete']\");\n",
        "        click(\"//div[text()='Are you sure you would like to remove this item from the shopping cart?']/following::span[text()='OK']\");\n",
        "        waitForInvisibility(\"//div[contains(@class,'block block-minicart')]//img[@alt='\" + event.product + \"']\",10);\n",
        "        click(\"//button[@id='btn-minicart-close']\");\n",
        "    }\n",
        "});\n",
        "\n",
        "/***********************************************************************************\n",
        " * Check that a product exists in the cart of the currently logged-in user.\n",
        " *\n",
        " * Parameters:\n",
        " *   s: string -      - The name of the session in which we want this event to take place.\n",
        " *   product : string - The  product that we want to remove.\n",
        " ************************************************************************************/\n",
        "define_event(\"CheckExistenceOfProductInCart\", function (session, event) {\n",
        "    with (session) {\n",
        "        click(\"//a[@class='action showcart']\");\n",
        "        waitForVisibility(\"//div[contains(@class,'block block-minicart')]//img[@alt='\" + event.product + \"']\");\n",
        "        click(\"//button[@id='btn-minicart-close']\");\n",
        "    }\n",
        "});\n",
        "\n",
        "/***********************************************************************************\n",
        " * Check-out the items in the cart of the currently logged-in user.\n",
        " *\n",
        " * Parameters:\n",
        " *   s: string                                              - The name of the session in which we want this event to take place.\n",
        " *   verifyItems : array of strings, optional               - A list of items that we expect to see in the cart.\n",
        " *   verifyNonexistenceOfItems : array of strings, optional - A list of items that we expect not to see in the cart.\n",
        " *   shippingMethod : string, optional                      - The shopping method that we want to use for this order.\n",
        " ************************************************************************************/\n",
        "define_event(\"CheckOut\", function (session, event) {\n",
        "    with (session) {\n",
        "        click(\"//a[@class='action showcart']\");\n",
        "        click(\"//button[@title='Proceed to Checkout']\");\n",
        "\n",
        "        if (event.verifyItems || event.verifyNonexistenceOfItems) {\n",
        "            waitForClickability(\"//div[contains(@class,'items-in-cart')]//div\", 20);\n",
        "            click(\"//div[contains(@class,'items-in-cart')]//div\");\n",
        "        }\n",
        "\n",
        "        if (event.verifyItems) {\n",
        "            for (item of event.verifyItems) {\n",
        "                waitForVisibility(\"//img[@alt='\" + item + \"']\");\n",
        "            }\n",
        "        }\n",
        "\n",
        "        if (event.verifyNonexistenceOfItems) {\n",
        "            for (item of event.verifyNonexistenceOfItems) {\n",
        "                waitForInvisibility(\"//img[@alt='\" + item + \"']\", 5);\n",
        "            }\n",
        "        }\n",
        "\n",
        "        if (event.shippingMethod) {\n",
        "            waitForClickability(\"//td[text()='\" + event.shippingMethod + \"']\", 5);\n",
        "            click(\"//td[text()='\" + event.shippingMethod + \"']\");\n",
        "        }\n",
        "\n",
        "        click(\"//span[text()='Next']\");\n",
        "\n",
        "        if (event.verifyItems) {\n",
        "            for (item of event.verifyItems) {\n",
        "                waitForVisibility(\"//img[@alt='\" + item + \"']\");\n",
        "            }\n",
        "        }\n",
        "        if (event.verifyNonexistenceOfItems) {\n",
        "            for (item of event.verifyNonexistenceOfItems) {\n",
        "                waitForInvisibility(\"//img[@alt='\" + item + \"']\", 5);\n",
        "            }\n",
        "        }\n",
        "\n",
        "\n",
        "        waitForClickability(\"//button[contains(@class,'action primary')]\", 20);\n",
        "        runCode(\"jQuery(document.querySelectorAll('button[class*=\\\"action primary\\\"]')).click()\");\n",
        "        // click(\"//button[contains(@class,'action primary')]\");\n",
        "        waitForVisibility(\"//p[text()='Your order number is: ']\", 5);\n",
        "        click(\"//span[text()='Continue Shopping']\");\n",
        "    }\n",
        "});"
      ],
      "metadata": {
        "id": "Q_9g0eny2Xvm",
        "outputId": "07224028-ce2b-4f4e-dbb8-4339572e9a7b",
        "colab": {
          "base_uri": "https://localhost:8080/"
        }
      },
      "execution_count": 179,
      "outputs": [
        {
          "output_type": "stream",
          "name": "stdout",
          "text": [
            "Overwriting events.js\n"
          ]
        }
      ]
    },
    {
      "cell_type": "markdown",
      "source": [
        "# Run\n"
      ],
      "metadata": {
        "id": "xLIewbCHj0pa"
      }
    },
    {
      "cell_type": "code",
      "source": [
        "testory --verbose run --show --actiondelay 20000 ."
      ],
      "metadata": {
        "id": "Ad4AxpKhiMeM",
        "outputId": "6c1281f7-32c0-49f1-8fa4-73055d1ef468",
        "colab": {
          "base_uri": "https://localhost:8080/"
        }
      },
      "execution_count": 180,
      "outputs": [
        {
          "output_type": "stream",
          "name": "stdout",
          "text": [
            "\u001b[32m  /\\\r\n",
            " /XX\\                           \r\n",
            "(XXXX#####################################\r\n",
            " \\XX/ \u001b[37m _____  ____  __  _____  ___   ___  _\r\n",
            "\u001b[32m  \\/  \u001b[37m  | |  | |_  ( (`  | |  / / \\ | |_) \\ \\_/\r\n",
            "        |_|  |_|__ _)_)  |_|  \\_\\_/ |_| \\  |_|\r\n",
            "\u001b[m\n",
            "\u001b[33m[SETUP] \u001b[39mFINE \u001b[mVersion: 0.6.5-SNAPSHOT\n",
            "\u001b[33m[SETUP] \u001b[36mINFO \u001b[mUsing tests from path: /content\n",
            "\u001b[33m[SETUP] \u001b[39mFINE \u001b[mRun mode: Execute\n",
            "\u001b[33m[EXEC ] \u001b[36mINFO \u001b[mPreparing to run\n",
            "\u001b[33m[EXEC>BUILD] \u001b[39mFINE \u001b[mBuilding BProgram Model...\n",
            "\u001b[33m[EXEC>BUILD] \u001b[39mFINE \u001b[mLibraries in use:\n",
            "\u001b[33m[EXEC>BUILD] \u001b[39mFINE \u001b[m - Selenium\n",
            "\u001b[33m[EXEC>BUILD] \u001b[39mFINE \u001b[mDone\n",
            "\u001b[33m[EXEC ] \u001b[39mFINE \u001b[mB-program starting\n",
            "\u001b[33m[EXEC ] \u001b[39mFINE \u001b[mAdded b-thread: My first end-to-end test\n",
            "\u001b[33m[EXEC ] \u001b[36mINFO \u001b[mB-program started\n",
            "\u001b[33m[EXEC ] \u001b[36mINFO \u001b[mSelected: [\u001b[33mBeginStory-My first end-to-end test\u001b[0;36m {JS_Obj lib:\"bp-base\"}\u001b[m]\n",
            "\u001b[33m[EXEC ] \u001b[36mINFO \u001b[mSelected: [\u001b[33mStartSession [id=My first end-to-end test, xpath=https://magento2-demo.magebit.com/]\u001b[m]\n",
            "Apr 23, 2022 11:59:00 AM org.openqa.selenium.remote.tracing.opentelemetry.OpenTelemetryTracer createTracer\n",
            "INFO: Using OpenTelemetry for tracing\n",
            "Apr 23, 2022 11:59:01 AM org.openqa.selenium.remote.ProtocolHandshake createSession\n",
            "INFO: Detected dialect: W3C\n",
            "\u001b[33m[EXEC ] \u001b[36mINFO \u001b[mAdding implicit wait of 20000 milliseconds for all Selenium timeouts\n",
            "\u001b[33m[EXEC ] \u001b[36mINFO \u001b[mSelected: [\u001b[33mLogin\u001b[0;36m {JS_Obj username:\"roni_cost@example.com\", password:\"roni_cost3@example.com\", s:<null>}\u001b[m]\n",
            "\u001b[33m[EXEC ] \u001b[36mINFO \u001b[mSelected: [\u001b[33mClick [session=My first end-to-end test xpath=//a[contains(text(),'Sign In')]]\u001b[m]\n",
            "\u001b[33m[EXEC ] \u001b[36mINFO \u001b[mSelected: [\u001b[33mWriteText [session=My first end-to-end test xpath=//input[@id=\"email\"],roni_cost@example.com,false]\u001b[m]\n",
            "\u001b[33m[EXEC ] \u001b[36mINFO \u001b[mSelected: [\u001b[33mWriteText [session=My first end-to-end test xpath=//input[@id=\"pass\"],roni_cost3@example.com,false]\u001b[m]\n",
            "\u001b[33m[EXEC ] \u001b[36mINFO \u001b[mSelected: [\u001b[33mClick [session=My first end-to-end test xpath=//button[@id=\"send2\"]]\u001b[m]\n",
            "\u001b[33m[EXEC ] \u001b[36mINFO \u001b[mSelected: [\u001b[33mEndOfAction\u001b[0;36m {JS_Obj username:\"roni_cost@example.com\", password:\"roni_cost3@example.com\", s:<null>, eventName:\"Login\"}\u001b[m]\n",
            "\u001b[33m[EXEC ] \u001b[36mINFO \u001b[mSelected: [\u001b[33mAddToCart\u001b[0;36m {JS_Obj category:\"Women\", subCategory:\"Tops\", subSubCategory:\"Jackets\", product:\"Stellar Solar Jacket\", options:[JS_Array 0:\"S\" | 1:\"Red\"], quantity:3.0, s:<null>}\u001b[m]\n",
            "\u001b[33m[EXEC ] \u001b[36mINFO \u001b[mSelected: [\u001b[33mClick [session=My first end-to-end test xpath=//span[text()='Women']]\u001b[m]\n",
            "\u001b[33m[EXEC ] \u001b[36mINFO \u001b[mSelected: [\u001b[33mClick [session=My first end-to-end test xpath=(//span[text()='Women'])/following::span[text()='Tops']/following::a[text()[normalize-space()='Jackets']]]\u001b[m]\n",
            "\u001b[33m[EXEC ] \u001b[36mINFO \u001b[mSelected: [\u001b[33mSelectByValue [session=My first end-to-end test xpath=(//span[text()='Show'])[2]/following::select[@class='limiter-options'], 36]\u001b[m]\n",
            "\u001b[33m[EXEC ] \u001b[36mINFO \u001b[mSelected: [\u001b[33mClick [session=My first end-to-end test xpath=(//img[@alt='Stellar Solar Jacket'])[last()]]\u001b[m]\n",
            "\u001b[33m[EXEC ] \u001b[36mINFO \u001b[mSelected: [\u001b[33mClick [session=My first end-to-end test xpath=//div[@data-option-label='S']]\u001b[m]\n",
            "\u001b[33m[EXEC ] \u001b[36mINFO \u001b[mSelected: [\u001b[33mWaitForVisibility [session=My first end-to-end test xpath=//div[@data-option-label='S' and contains(@class,'selected')] timeout=null]\u001b[m]\n",
            "\u001b[33m[EXEC ] \u001b[36mINFO \u001b[mSelected: [\u001b[33mClick [session=My first end-to-end test xpath=//div[@data-option-label='Red']]\u001b[m]\n",
            "\u001b[33m[EXEC ] \u001b[36mINFO \u001b[mSelected: [\u001b[33mWaitForVisibility [session=My first end-to-end test xpath=//div[@data-option-label='Red' and contains(@class,'selected')] timeout=null]\u001b[m]\n",
            "\u001b[33m[EXEC ] \u001b[36mINFO \u001b[mSelected: [\u001b[33mWriteText [session=My first end-to-end test xpath=//input[@title='Qty'],3,true]\u001b[m]\n",
            "\u001b[33m[EXEC ] \u001b[36mINFO \u001b[mSelected: [\u001b[33mClick [session=My first end-to-end test xpath=//button[@id='product-addtocart-button']/span]\u001b[m]\n",
            "\u001b[33m[EXEC ] \u001b[36mINFO \u001b[mSelected: [\u001b[33mWaitForVisibility [session=My first end-to-end test xpath=//div[@data-ui-id='message-success']//div[1] timeout=null]\u001b[m]\n",
            "\u001b[33m[EXEC ] \u001b[36mINFO \u001b[mSelected: [\u001b[33mAssertText [session=My first end-to-end test xpath=//div[@data-ui-id='message-success']//div[1], value=You added Stellar Solar Jacket to your shopping cart. modifiers=[]]\u001b[m]\n",
            "\u001b[33m[EXEC ] \u001b[36mINFO \u001b[mSelected: [\u001b[33mEndOfAction\u001b[0;36m {JS_Obj category:\"Women\", subCategory:\"Tops\", subSubCategory:\"Jackets\", product:\"Stellar Solar Jacket\", options:[JS_Array 0:\"S\" | 1:\"Red\"], quantity:3.0, s:<null>, eventName:\"AddToCart\"}\u001b[m]\n",
            "\u001b[33m[EXEC ] \u001b[36mINFO \u001b[mSelected: [\u001b[33mAddToCart\u001b[0;36m {JS_Obj category:\"Men\", subCategory:\"Tops\", subSubCategory:\"Jackets\", product:\"Kenobi Trail Jacket\", options:[JS_Array 0:\"M\" | 1:\"Black\"], quantity:3.0, s:<null>}\u001b[m]\n",
            "\u001b[33m[EXEC ] \u001b[36mINFO \u001b[mSelected: [\u001b[33mClick [session=My first end-to-end test xpath=//span[text()='Men']]\u001b[m]\n",
            "\u001b[33m[EXEC ] \u001b[36mINFO \u001b[mSelected: [\u001b[33mClick [session=My first end-to-end test xpath=(//span[text()='Men'])/following::span[text()='Tops']/following::a[text()[normalize-space()='Jackets']]]\u001b[m]\n",
            "\u001b[33m[EXEC ] \u001b[36mINFO \u001b[mSelected: [\u001b[33mSelectByValue [session=My first end-to-end test xpath=(//span[text()='Show'])[2]/following::select[@class='limiter-options'], 36]\u001b[m]\n",
            "\u001b[33m[EXEC ] \u001b[36mINFO \u001b[mSelected: [\u001b[33mClick [session=My first end-to-end test xpath=(//img[@alt='Kenobi Trail Jacket'])[last()]]\u001b[m]\n",
            "\u001b[33m[EXEC ] \u001b[36mINFO \u001b[mSelected: [\u001b[33mClick [session=My first end-to-end test xpath=//div[@data-option-label='M']]\u001b[m]\n",
            "\u001b[33m[EXEC ] \u001b[36mINFO \u001b[mSelected: [\u001b[33mWaitForVisibility [session=My first end-to-end test xpath=//div[@data-option-label='M' and contains(@class,'selected')] timeout=null]\u001b[m]\n",
            "\u001b[33m[EXEC ] \u001b[36mINFO \u001b[mSelected: [\u001b[33mClick [session=My first end-to-end test xpath=//div[@data-option-label='Black']]\u001b[m]\n",
            "\u001b[33m[EXEC ] \u001b[36mINFO \u001b[mSelected: [\u001b[33mWaitForVisibility [session=My first end-to-end test xpath=//div[@data-option-label='Black' and contains(@class,'selected')] timeout=null]\u001b[m]\n",
            "\u001b[33m[EXEC ] \u001b[36mINFO \u001b[mSelected: [\u001b[33mWriteText [session=My first end-to-end test xpath=//input[@title='Qty'],3,true]\u001b[m]\n",
            "\u001b[33m[EXEC ] \u001b[36mINFO \u001b[mSelected: [\u001b[33mClick [session=My first end-to-end test xpath=//button[@id='product-addtocart-button']/span]\u001b[m]\n",
            "\u001b[33m[EXEC ] \u001b[36mINFO \u001b[mSelected: [\u001b[33mWaitForVisibility [session=My first end-to-end test xpath=//div[@data-ui-id='message-success']//div[1] timeout=null]\u001b[m]\n",
            "\u001b[33m[EXEC ] \u001b[36mINFO \u001b[mSelected: [\u001b[33mAssertText [session=My first end-to-end test xpath=//div[@data-ui-id='message-success']//div[1], value=You added Kenobi Trail Jacket to your shopping cart. modifiers=[]]\u001b[m]\n",
            "\u001b[33m[EXEC ] \u001b[36mINFO \u001b[mSelected: [\u001b[33mEndOfAction\u001b[0;36m {JS_Obj category:\"Men\", subCategory:\"Tops\", subSubCategory:\"Jackets\", product:\"Kenobi Trail Jacket\", options:[JS_Array 0:\"M\" | 1:\"Black\"], quantity:3.0, s:<null>, eventName:\"AddToCart\"}\u001b[m]\n",
            "\u001b[33m[EXEC ] \u001b[36mINFO \u001b[mSelected: [\u001b[33mRemoveFromCart\u001b[0;36m {JS_Obj product:\"Kenobi Trail Jacket\", s:<null>}\u001b[m]\n",
            "\u001b[33m[EXEC ] \u001b[36mINFO \u001b[mSelected: [\u001b[33mClick [session=My first end-to-end test xpath=//a[@class='action showcart']]\u001b[m]\n",
            "\u001b[33m[EXEC ] \u001b[36mINFO \u001b[mSelected: [\u001b[33mClick [session=My first end-to-end test xpath=//a[text()[normalize-space()='Kenobi Trail Jacket']]/following::a[@class='action delete']]\u001b[m]\n",
            "\u001b[33m[EXEC ] \u001b[36mINFO \u001b[mSelected: [\u001b[33mClick [session=My first end-to-end test xpath=//div[text()='Are you sure you would like to remove this item from the shopping cart?']/following::span[text()='OK']]\u001b[m]\n",
            "\u001b[33m[EXEC ] \u001b[36mINFO \u001b[mSelected: [\u001b[33mWaitForInvisibility [session=My first end-to-end test xpath=//div[contains(@class,'block block-minicart')]//img[@alt='Kenobi Trail Jacket'] timeout=10]\u001b[m]\n",
            "\u001b[33m[EXEC ] \u001b[36mINFO \u001b[mSelected: [\u001b[33mClick [session=My first end-to-end test xpath=//button[@id='btn-minicart-close']]\u001b[m]\n",
            "\u001b[33m[EXEC ] \u001b[36mINFO \u001b[mSelected: [\u001b[33mEndOfAction\u001b[0;36m {JS_Obj product:\"Kenobi Trail Jacket\", s:<null>, eventName:\"RemoveFromCart\"}\u001b[m]\n",
            "\u001b[33m[EXEC ] \u001b[36mINFO \u001b[mSelected: [\u001b[33mCheckExistenceOfProductInCart\u001b[0;36m {JS_Obj product:\"Stellar Solar Jacket\", s:<null>}\u001b[m]\n",
            "\u001b[33m[EXEC ] \u001b[36mINFO \u001b[mSelected: [\u001b[33mClick [session=My first end-to-end test xpath=//a[@class='action showcart']]\u001b[m]\n",
            "\u001b[33m[EXEC ] \u001b[36mINFO \u001b[mSelected: [\u001b[33mWaitForVisibility [session=My first end-to-end test xpath=//div[contains(@class,'block block-minicart')]//img[@alt='Stellar Solar Jacket'] timeout=null]\u001b[m]\n",
            "\u001b[33m[EXEC ] \u001b[36mINFO \u001b[mSelected: [\u001b[33mClick [session=My first end-to-end test xpath=//button[@id='btn-minicart-close']]\u001b[m]\n",
            "\u001b[33m[EXEC ] \u001b[36mINFO \u001b[mSelected: [\u001b[33mEndOfAction\u001b[0;36m {JS_Obj product:\"Stellar Solar Jacket\", s:<null>, eventName:\"CheckExistenceOfProductInCart\"}\u001b[m]\n",
            "\u001b[33m[EXEC ] \u001b[36mINFO \u001b[mSelected: [\u001b[33mCheckOut\u001b[0;36m {JS_Obj shippingMethod:\"Fixed\", verifyItems:[JS_Array 0:\"Stellar Solar Jacket\"], verifyNonexistenceOfItems:[JS_Array 0:\"Kenobi Trail Jacket\"], s:<null>}\u001b[m]\n",
            "\u001b[33m[EXEC ] \u001b[36mINFO \u001b[mSelected: [\u001b[33mClick [session=My first end-to-end test xpath=//a[@class='action showcart']]\u001b[m]\n",
            "\u001b[33m[EXEC ] \u001b[36mINFO \u001b[mSelected: [\u001b[33mClick [session=My first end-to-end test xpath=//button[@title='Proceed to Checkout']]\u001b[m]\n",
            "\u001b[33m[EXEC ] \u001b[36mINFO \u001b[mSelected: [\u001b[33mWaitForClickable [session=My first end-to-end test xpath=//div[contains(@class,'items-in-cart')]//div timeout=20]\u001b[m]\n",
            "\u001b[33m[EXEC ] \u001b[36mINFO \u001b[mWaiting 20 seconds\n",
            "\u001b[33m[EXEC ] \u001b[36mINFO \u001b[mSelected: [\u001b[33mClick [session=My first end-to-end test xpath=//div[contains(@class,'items-in-cart')]//div]\u001b[m]\n",
            "\u001b[33m[EXEC ] \u001b[36mINFO \u001b[mSelected: [\u001b[33mWaitForVisibility [session=My first end-to-end test xpath=//img[@alt='Stellar Solar Jacket'] timeout=null]\u001b[m]\n",
            "\u001b[33m[EXEC ] \u001b[36mINFO \u001b[mSelected: [\u001b[33mWaitForInvisibility [session=My first end-to-end test xpath=//img[@alt='Kenobi Trail Jacket'] timeout=5]\u001b[m]\n",
            "\u001b[33m[EXEC ] \u001b[36mINFO \u001b[mSelected: [\u001b[33mWaitForClickable [session=My first end-to-end test xpath=//td[text()='Fixed'] timeout=5]\u001b[m]\n",
            "\u001b[33m[EXEC ] \u001b[36mINFO \u001b[mWaiting 5 seconds\n",
            "\u001b[33m[EXEC ] \u001b[36mINFO \u001b[mSelected: [\u001b[33mClick [session=My first end-to-end test xpath=//td[text()='Fixed']]\u001b[m]\n",
            "\u001b[33m[EXEC ] \u001b[36mINFO \u001b[mSelected: [\u001b[33mClick [session=My first end-to-end test xpath=//span[text()='Next']]\u001b[m]\n",
            "\u001b[33m[EXEC ] \u001b[36mINFO \u001b[mSelected: [\u001b[33mWaitForVisibility [session=My first end-to-end test xpath=//img[@alt='Stellar Solar Jacket'] timeout=null]\u001b[m]\n",
            "\u001b[33m[EXEC ] \u001b[36mINFO \u001b[mSelected: [\u001b[33mWaitForInvisibility [session=My first end-to-end test xpath=//img[@alt='Kenobi Trail Jacket'] timeout=5]\u001b[m]\n",
            "\u001b[33m[EXEC ] \u001b[36mINFO \u001b[mSelected: [\u001b[33mWaitForClickable [session=My first end-to-end test xpath=//button[contains(@class,'action primary')] timeout=20]\u001b[m]\n",
            "\u001b[33m[EXEC ] \u001b[36mINFO \u001b[mWaiting 20 seconds\n",
            "\u001b[33m[EXEC ] \u001b[36mINFO \u001b[mSelected: [\u001b[33mRunCode [session=My first end-to-end test, code=jQuery(document.querySelectorAll('button[class*=\"action primary\"]')).click()]\u001b[m]\n",
            "\u001b[33m[EXEC ] \u001b[36mINFO \u001b[mSelected: [\u001b[33mWaitForVisibility [session=My first end-to-end test xpath=//p[text()='Your order number is: '] timeout=5]\u001b[m]\n",
            "\u001b[33m[EXEC ] \u001b[36mINFO \u001b[mSelected: [\u001b[33mClick [session=My first end-to-end test xpath=//span[text()='Continue Shopping']]\u001b[m]\n",
            "\u001b[33m[EXEC ] \u001b[36mINFO \u001b[mSelected: [\u001b[33mEndOfAction\u001b[0;36m {JS_Obj shippingMethod:\"Fixed\", verifyItems:[JS_Array 0:\"Stellar Solar Jacket\"], verifyNonexistenceOfItems:[JS_Array 0:\"Kenobi Trail Jacket\"], s:<null>, eventName:\"CheckOut\"}\u001b[m]\n",
            "\u001b[33m[EXEC ] \u001b[36mINFO \u001b[mSelected: [\u001b[33mEndStory-My first end-to-end test\u001b[0;36m {JS_Obj lib:\"bp-base\"}\u001b[m]\n",
            "\u001b[33m[EXEC ] \u001b[39mFINE \u001b[mCompleted b-thread: My first end-to-end test\n",
            "\u001b[33m[EXEC ] \u001b[36mINFO \u001b[mB-program ended\n"
          ]
        }
      ]
    },
    {
      "cell_type": "markdown",
      "source": [
        "## Generating and viewing a report\n",
        "\n",
        "Testory supports various types of reports. In this example, we use the command below to generate a report that details the steps of the tests that we have executed."
      ],
      "metadata": {
        "id": "0I5Qp2RBLz1C"
      }
    },
    {
      "cell_type": "code",
      "source": [
        "testory report TestLog ."
      ],
      "metadata": {
        "id": "1PYP4OuOnHE2",
        "outputId": "5623806f-a695-4b8a-8c41-eadbbe81baf7",
        "colab": {
          "base_uri": "https://localhost:8080/"
        }
      },
      "execution_count": 181,
      "outputs": [
        {
          "output_type": "stream",
          "name": "stdout",
          "text": [
            "\u001b[32m  /\\\r\n",
            " /XX\\                           \r\n",
            "(XXXX#####################################\r\n",
            " \\XX/ \u001b[37m _____  ____  __  _____  ___   ___  _\r\n",
            "\u001b[32m  \\/  \u001b[37m  | |  | |_  ( (`  | |  / / \\ | |_) \\ \\_/\r\n",
            "        |_|  |_|__ _)_)  |_|  \\_\\_/ |_| \\  |_|\r\n",
            "\u001b[m\n",
            "\u001b[33m[SETUP] \u001b[36mINFO \u001b[mUsing tests from path: /content\n",
            "\u001b[33m[REPORT] \u001b[36mINFO \u001b[mGenerating report in /content/./report/extent\n",
            "\u001b[33m[REPORT] \u001b[36mINFO \u001b[mDone creating extent report\n"
          ]
        }
      ]
    },
    {
      "cell_type": "markdown",
      "source": [
        "The generated report can be displayed by clicking on the link below."
      ],
      "metadata": {
        "id": "0bndEO36SWmC"
      }
    },
    {
      "cell_type": "code",
      "source": [
        "testory report Extent ."
      ],
      "metadata": {
        "id": "2G61eLoCcsSD",
        "outputId": "22a8549c-e6a4-48a4-8ce4-18c67d3c0027",
        "colab": {
          "base_uri": "https://localhost:8080/"
        }
      },
      "execution_count": 182,
      "outputs": [
        {
          "output_type": "stream",
          "name": "stdout",
          "text": [
            "\u001b[32m  /\\\r\n",
            " /XX\\                           \r\n",
            "(XXXX#####################################\r\n",
            " \\XX/ \u001b[37m _____  ____  __  _____  ___   ___  _\r\n",
            "\u001b[32m  \\/  \u001b[37m  | |  | |_  ( (`  | |  / / \\ | |_) \\ \\_/\r\n",
            "        |_|  |_|__ _)_)  |_|  \\_\\_/ |_| \\  |_|\r\n",
            "\u001b[m\n",
            "\u001b[33m[SETUP] \u001b[36mINFO \u001b[mUsing tests from path: /content\n"
          ]
        }
      ]
    },
    {
      "cell_type": "code",
      "source": [
        "from google.colab import output\n",
        "get_ipython().system_raw('python3 -m http.server 8888 --directory /content/report&') \n",
        "output.serve_kernel_port_as_window(8888, path=\"extent/html/index.html\")"
      ],
      "metadata": {
        "id": "1c1rsd2HSTlc"
      },
      "execution_count": null,
      "outputs": []
    }
  ],
  "metadata": {
    "colab": {
      "collapsed_sections": [
        "IpzG8xVPilh2",
        "aUx4J_ljwhxr"
      ],
      "name": "SimpleEndeToEndMagentoTestWithTestory.ipynb",
      "provenance": []
    },
    "kernelspec": {
      "display_name": "Python 3",
      "name": "python3"
    },
    "language_info": {
      "name": "python"
    },
    "accelerator": "TPU"
  },
  "nbformat": 4,
  "nbformat_minor": 0
}