{
  "cells": [
    {
      "cell_type": "markdown",
      "metadata": {
        "id": "view-in-github",
        "colab_type": "text"
      },
      "source": [
        "<a href=\"https://colab.research.google.com/github/TestoryTech/examples/blob/main/SearchingForPizzaWithTestory.ipynb\" target=\"_parent\"><img src=\"https://colab.research.google.com/assets/colab-badge.svg\" alt=\"Open In Colab\"/></a>"
      ]
    },  
    {
      "cell_type": "markdown",
      "source": [
        "# Install"
      ],
      "metadata": {
        "id": "T1xDaG9DihN3"
      }
    },
    {
      "cell_type": "markdown",
      "source": [
        "## Install the testory tool and define an alias for it"
      ],
      "metadata": {
        "id": "IpzG8xVPilh2"
      }
    },
    {
      "cell_type": "code",
      "source": [
        "!wget -nc https://github.com/TestoryTech/examples/releases/download/0.6.5/testory.sh\n",
        "!wget -nc https://github.com/TestoryTech/examples/releases/download/0.6.5/TestoryTool-101.uber.jar\n",
        "!chmod +x testory.sh\n",
        "%alias testory /content/testory.sh"
      ],
      "metadata": {
        "id": "VunEY-2aZLtI"
      },
      "execution_count": null,
      "outputs": []
    },
    {
      "cell_type": "markdown",
      "source": [
        "## Install Selenium and run a standalone server"
      ],
      "metadata": {
        "id": "SM-3cca5isXS"
      }
    },
    {
      "cell_type": "code",
      "source": [
        "!wget -nc https://github.com/SeleniumHQ/selenium/releases/download/selenium-4.1.0/selenium-server-4.1.2.jar\n",
        "!apt-get update\n",
        "!apt-get install chromium-chromedriver"
      ],
      "metadata": {
        "id": "nndJE_hmh-4m"
      },
      "execution_count": null,
      "outputs": []
    },
    {
      "cell_type": "code",
      "execution_count": null,
      "metadata": {
        "id": "YczL-VXHr3w5"
      },
      "outputs": [],
      "source": [
        "%%script bash --bg\n",
        "java -jar /content/selenium-server-4.1.2.jar standalone --port 4444 --override-max-sessions true --max-sessions 40  --log /content/selenium.log"
      ]
    },
    {
      "cell_type": "markdown",
      "source": [
        "# Write a test model"
      ],
      "metadata": {
        "id": "zLzFaVFzaJO5"
      }
    },
    {
      "cell_type": "code",
      "source": [
        "%%writefile test.story.js\n",
        "//%%js\n",
        "const QUERY = 'Pizza';\n",
        "\n",
        "story('SearchPizzaOnGoogle', function () {\n",
        "  with( new SeleniumSession().start('https://google.com') ) {\n",
        "    composeQuery({ s: 'A1', text: 'Pizza' })\n",
        "    startSearch({ s: 'A1' })\n",
        "  }\n",
        "});\n"
      ],
      "metadata": {
        "id": "oHWIzmzBYylY"
      },
      "execution_count": null,
      "outputs": []
    },
    {
      "cell_type": "code",
      "source": [
        "%%writefile events.js \n",
        "//%%js\n",
        "/* @Testory summon selenium */\n",
        "\n",
        "define_event(\"ComposeQuery\", function(session, e) {\n",
        "  session.writeText(\"//input[@name='q']\", e.text);\n",
        "})\n",
        "\n",
        "define_event(\"StartSearch\", function(session, e) {\n",
        "  session.click(\"//input[@name='btnK']\");\n",
        "});\n",
        "\n",
        "define_event(\"FeelLucky\", function(session, e) {\n",
        "  session.click(\"//input[@name='btnI']\");\n",
        "});\n"
      ],
      "metadata": {
        "id": "YApegYMEZNKa"
      },
      "execution_count": null,
      "outputs": []
    },
    {
      "cell_type": "markdown",
      "source": [
        "# Generate and run tests\n"
      ],
      "metadata": {
        "id": "xLIewbCHj0pa"
      }
    },
    {
      "cell_type": "markdown",
      "source": [
        "## Generate and run a test"
      ],
      "metadata": {
        "id": "a4qGOHWLPN3-"
      }
    },
    {
      "cell_type": "code",
      "source": [
        "testory run ."
      ],
      "metadata": {
        "id": "Ad4AxpKhiMeM"
      },
      "execution_count": null,
      "outputs": []
    },
    {
      "cell_type": "markdown",
      "source": [
        "# Generate and view a report\n",
        "\n",
        "Testory supports various types of reports. In this example, we use the command below to geberate a report that details the steps of the tests that we have executed."
      ],
      "metadata": {
        "id": "0I5Qp2RBLz1C"
      }
    },
    {
      "cell_type": "code",
      "source": [
        "testory report TestLog ."
      ],
      "metadata": {
        "id": "1PYP4OuOnHE2"
      },
      "execution_count": null,
      "outputs": []
    },
    {
      "cell_type": "markdown",
      "source": [
        "The generated report can be displayed by clicking on the link below."
      ],
      "metadata": {
        "id": "0bndEO36SWmC"
      }
    },
    {
      "cell_type": "code",
      "source": [
        "from google.colab import output\n",
        "get_ipython().system_raw('python3 -m http.server 8888 --directory /content/report&') \n",
        "output.serve_kernel_port_as_window(8888, path=\"extent/html/index.html\")"
      ],
      "metadata": {
        "id": "1c1rsd2HSTlc"
      },
      "execution_count": null,
      "outputs": []
    }
  ],
  "metadata": {
    "colab": {
      "collapsed_sections": [],
      "name": "SearchingForPizzaWithTestory.ipynb",
      "provenance": []
    },
    "kernelspec": {
      "display_name": "Python 3",
      "name": "python3"
    },
    "language_info": {
      "name": "python"
    },
    "accelerator": "TPU"
  },
  "nbformat": 4,
  "nbformat_minor": 0
}
